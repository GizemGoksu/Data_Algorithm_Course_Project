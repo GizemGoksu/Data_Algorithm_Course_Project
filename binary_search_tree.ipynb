{
 "cells": [
  {
   "cell_type": "markdown",
   "id": "099237f8-8705-4797-aade-2dabb9a800b3",
   "metadata": {},
   "source": [
    "# Binary Tree"
   ]
  },
  {
   "cell_type": "markdown",
   "id": "b923730f-3ff3-424c-bff5-0f78de7b04f7",
   "metadata": {},
   "source": [
    "Dizi: [7, 5, 1, 8, 3, 6, 0, 9, 4, 2] "
   ]
  },
  {
   "cell_type": "markdown",
   "id": "96f14f0c-8d66-4d88-9dd8-d9040e8174f0",
   "metadata": {},
   "source": [
    "Adım Adım Binary Search Tree İnşası:\n",
    "\n",
    "1. İlk eleman: 7 → root\n",
    "\n",
    "- root = 7\n",
    "  \n",
    "2. 5 → 7'den küçük → 7'nin soluna\n",
    "\n",
    "- 7'nin solunda 5 bulunur.\n",
    "\n",
    "3. 1 → 7'den küçük → 5'ten küçük → 5'in soluna\n",
    "\n",
    "- 5'in solunda 1 bulunur.\n",
    "\n",
    "4. 8 → 7'den büyük → 7'nin sağına\n",
    "\n",
    "- 7'nin sağında 8 bulunur.\n",
    "\n",
    "5. 3 → 7'den küçük → 5'ten küçük → 1'den büyük → 1'in sağına\n",
    "\n",
    "- 1'in sağında 3 bulunur.\n",
    "\n",
    "6. 6 → 7'den küçük → 5'ten büyük → 5'in sağına\n",
    "\n",
    "- 5'in sağında 6 bulunur.\n",
    "\n",
    "7. 0 → 7'den küçük → 5'ten küçük → 1'den küçük → 1'in soluna\n",
    "\n",
    "- 1'in solunda 0 bulunur.\n",
    "\n",
    "8. 9 → 7'den büyük → 8'den büyük → 8'in sağına\n",
    "\n",
    "- 8'in sağında 9 bulunur.\n",
    "\n",
    "9. 4 → 7'den küçük → 5'ten küçük → 1'den büyük → 3'ten büyük → 3'ün sağına\n",
    "\n",
    "- 3'ün sağında 4 bulunur.\n",
    "\n",
    "10. 2 → 7'den küçük → 5'ten küçük → 1'den büyük → 3'ten küçük → 3'ün soluna\n",
    "\n",
    "- 3'ün solunda 2 bulunur."
   ]
  },
  {
   "cell_type": "markdown",
   "id": "edbf95f6-17ba-4887-86e6-0f2d011087fe",
   "metadata": {},
   "source": [
    "## Sonuç"
   ]
  },
  {
   "cell_type": "markdown",
   "id": "cef252b8-c081-4431-8541-38159fa90c18",
   "metadata": {},
   "source": [
    "              7\n",
    "            /   \\\n",
    "           5     8\n",
    "         /  \\      \\\n",
    "        1    6      9\n",
    "       / \\\n",
    "      0   3\n",
    "         / \\\n",
    "        2   4\n"
   ]
  },
  {
   "cell_type": "markdown",
   "id": "36995998-b600-479d-8ba1-ab2f09961b91",
   "metadata": {},
   "source": [
    "Özetli Açıklama:\n",
    "- Root 7’dir.\n",
    "- Root’un solunda 5, sağında 8 vardır.\n",
    "- 5’in solunda 1, sağında 6 yer alır.\n",
    "- 1’in solunda 0, sağında 3 bulunur.\n",
    "- 3’ün solunda 2, sağında 4 bulunur.\n",
    "- 8’in sağında 9 vardır."
   ]
  }
 ],
 "metadata": {
  "kernelspec": {
   "display_name": "Python 3 (ipykernel)",
   "language": "python",
   "name": "python3"
  },
  "language_info": {
   "codemirror_mode": {
    "name": "ipython",
    "version": 3
   },
   "file_extension": ".py",
   "mimetype": "text/x-python",
   "name": "python",
   "nbconvert_exporter": "python",
   "pygments_lexer": "ipython3",
   "version": "3.12.7"
  }
 },
 "nbformat": 4,
 "nbformat_minor": 5
}
