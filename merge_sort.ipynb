{
 "cells": [
  {
   "cell_type": "markdown",
   "id": "47b6a6a3-f56f-4086-90c1-fa9f71ddeed4",
   "metadata": {},
   "source": [
    "# Merge Sort"
   ]
  },
  {
   "cell_type": "markdown",
   "id": "30c38607-97e0-4524-b792-00f67804a9ba",
   "metadata": {},
   "source": [
    "## Sorting"
   ]
  },
  {
   "cell_type": "markdown",
   "id": "93ac19cc-0744-4e93-a9e2-7a000d7a09c7",
   "metadata": {},
   "source": [
    "1. Diziyi ikiye böl:\n",
    "- Sol: 16,21,11\n",
    "- Sağ: 8,12,22"
   ]
  },
  {
   "cell_type": "markdown",
   "id": "e61c17cf-a692-428c-8a70-6f33edc3c75d",
   "metadata": {},
   "source": [
    "2. Alt dizileri yine ikiye böl:\n",
    "\n",
    "\n",
    "- Sol: 16,21,11\n",
    "\n",
    "\n",
    "-> 16, 21, 11\n",
    "\n",
    "\n",
    "-> 21, 11\n",
    "\n",
    "\n",
    "- Sağ: 8,12,22\n",
    "\n",
    "\n",
    "-> 8, 12, 22\n",
    "\n",
    "\n",
    "-> 12, 22"
   ]
  },
  {
   "cell_type": "markdown",
   "id": "35678e91-8960-48d4-9148-f038f3e7b148",
   "metadata": {},
   "source": [
    "3. Alt dizileri sıralayıp birleştir:\n",
    "\n",
    "   \n",
    "Sol:\n",
    "- 21 + 11 -> 11,21\n",
    "- 16 + 11, 21 -> 11, 16, 21\n",
    "\n",
    "\n",
    "Sağ:\n",
    "- 12 + 22 -> 12, 22\n",
    "- 8 + 12, 22 -> 8, 12, 22"
   ]
  },
  {
   "cell_type": "markdown",
   "id": "650abf6a-645b-43de-8eea-1e3b545ed24d",
   "metadata": {},
   "source": [
    "4. İki tarafı birleştir:\n",
    "\n",
    "   \n",
    "11, 16, 21 + 8, 12, 22"
   ]
  },
  {
   "cell_type": "markdown",
   "id": "1cd51604-3f5c-4364-908e-339f80685367",
   "metadata": {},
   "source": [
    "Karşılaştırarak birleştirelim:\n",
    "\n",
    "- 8 < 11 → 8\n",
    "- 11 -> 8, 11\n",
    "- 12 < 16 -> 8, 11, 12\n",
    "- 16 -> 8, 11, 12, 16\n",
    "- 21 -> 8, 11, 12, 16, 21\n",
    "- 22 -> 8, 11, 12, 16, 21, 22"
   ]
  },
  {
   "cell_type": "markdown",
   "id": "f1d15a79-f992-4301-8b2f-b43853a5583f",
   "metadata": {},
   "source": [
    "Sonuç: 8, 11, 12, 16, 21, 22"
   ]
  },
  {
   "cell_type": "markdown",
   "id": "f78d9e6d-1911-41cb-9c6b-565679ea422c",
   "metadata": {},
   "source": [
    "## Big O Notation"
   ]
  },
  {
   "cell_type": "markdown",
   "id": "7a5941a9-da47-43bf-8302-d02c9c6168f1",
   "metadata": {},
   "source": [
    "- Best Case: O(nlogn)\n",
    "- Average Case: O(nlogn)\n",
    "- Worst Case: O(nlogn)"
   ]
  }
 ],
 "metadata": {
  "kernelspec": {
   "display_name": "Python 3 (ipykernel)",
   "language": "python",
   "name": "python3"
  },
  "language_info": {
   "codemirror_mode": {
    "name": "ipython",
    "version": 3
   },
   "file_extension": ".py",
   "mimetype": "text/x-python",
   "name": "python",
   "nbconvert_exporter": "python",
   "pygments_lexer": "ipython3",
   "version": "3.12.7"
  }
 },
 "nbformat": 4,
 "nbformat_minor": 5
}
