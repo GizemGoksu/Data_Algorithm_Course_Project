{
 "cells": [
  {
   "cell_type": "markdown",
   "id": "2fc5d0f6-2d8a-4827-87e4-50db18997b32",
   "metadata": {},
   "source": [
    "# Insertion Sort Project"
   ]
  },
  {
   "cell_type": "markdown",
   "id": "8b61e262-fee2-44a1-8b44-424d919e8055",
   "metadata": {},
   "source": [
    "- Writing sorting step by step\n"
   ]
  },
  {
   "cell_type": "code",
   "execution_count": 10,
   "id": "2bc3a7d2-ac3c-460a-81bf-3fec02ae2871",
   "metadata": {},
   "outputs": [
    {
     "name": "stdout",
     "output_type": "stream",
     "text": [
      "1.sort:\n",
      "22 27 16 2 18 6 \n",
      "2.sort:\n",
      "16 22 27 2 18 6 \n",
      "3.sort:\n",
      "2 16 22 27 18 6 \n",
      "4.sort:\n",
      "2 16 18 22 27 6 \n",
      "5.sort:\n",
      "2 6 16 18 22 27 \n"
     ]
    }
   ],
   "source": [
    "def printArray(arr):\n",
    "    for i in range(len(arr)):\n",
    "        print(arr[i], end=\" \")\n",
    "    print()\n",
    "\n",
    "def insertionSort(arr):\n",
    "    for i in range(1, len(arr)):\n",
    "        key = arr[i]\n",
    "        j = i - 1\n",
    "\n",
    "        while j >= 0 and key < arr[j]:\n",
    "            arr[j + 1] = arr[j]\n",
    "            j -= 1\n",
    "        arr[j + 1] = key\n",
    "        print(f\"{i}.sort:\")\n",
    "        printArray(arr)\n",
    "\n",
    "if __name__ == \"__main__\":\n",
    "    arr = [22,27,16,2,18,6]\n",
    "    insertionSort(arr)"
   ]
  },
  {
   "cell_type": "markdown",
   "id": "94c3056d-7c40-4725-b553-7ebaddd84b54",
   "metadata": {},
   "source": [
    "- Big-O notion"
   ]
  },
  {
   "cell_type": "markdown",
   "id": "625dcc7d-3e46-4d87-a417-a4e78bca5734",
   "metadata": {},
   "source": [
    "-> Worst case = O(n^2)"
   ]
  },
  {
   "cell_type": "markdown",
   "id": "15d27fcb-4de9-4838-a079-c3ba8ef5a418",
   "metadata": {},
   "source": [
    "-> Best case = O(n)"
   ]
  },
  {
   "cell_type": "markdown",
   "id": "e3bfa791-0e6d-479c-9ef1-65a89a7683dc",
   "metadata": {},
   "source": [
    "-> Average case = O(n^2)"
   ]
  },
  {
   "cell_type": "markdown",
   "id": "e4ddcd4f-2c8d-42f7-bba4-da41a0d34892",
   "metadata": {},
   "source": [
    "- In which case is 18 in time complexity?"
   ]
  },
  {
   "cell_type": "markdown",
   "id": "7308e22b-54f9-4df9-8ada-629ea40d229b",
   "metadata": {},
   "source": [
    "After sorting, 18 is in the middle. So the answer is average case."
   ]
  },
  {
   "cell_type": "markdown",
   "id": "1b79af62-2533-4ef2-8cca-2771b3b283e5",
   "metadata": {},
   "source": [
    "## Selection Sort"
   ]
  },
  {
   "cell_type": "code",
   "execution_count": 37,
   "id": "9e4c4c76-10bb-4a0e-ad74-68be1c80aabc",
   "metadata": {},
   "outputs": [
    {
     "name": "stdout",
     "output_type": "stream",
     "text": [
      "1.sort:\n",
      "2 3 5 8 7 9 4 15 6 \n",
      "2.sort:\n",
      "2 3 5 8 7 9 4 15 6 \n",
      "3.sort:\n",
      "2 3 4 8 7 9 5 15 6 \n",
      "4.sort:\n",
      "2 3 4 5 7 9 8 15 6 \n"
     ]
    }
   ],
   "source": [
    "def print_array(arr):\n",
    "    for val in arr:\n",
    "        print(val, end=\" \")\n",
    "    print()\n",
    "    \n",
    "def selection_sort(arr):\n",
    "    n = len(arr)\n",
    "    for i in range(n - 1):\n",
    "        min_idx = i\n",
    "        \n",
    "        for j in range(i + 1, n):\n",
    "            if arr[j] < arr[min_idx]:\n",
    "                min_idx = j\n",
    "    \n",
    "        arr[i], arr[min_idx] = arr[min_idx], arr[i]\n",
    "\n",
    "        if i<4:\n",
    "           print(f\"{i+1}.sort:\")\n",
    "           print_array(arr)\n",
    "\n",
    "if __name__ == \"__main__\":\n",
    "    arr = [7,3,5,8,2,9,4,15,6]\n",
    "    selection_sort(arr)"
   ]
  }
 ],
 "metadata": {
  "kernelspec": {
   "display_name": "Python 3 (ipykernel)",
   "language": "python",
   "name": "python3"
  },
  "language_info": {
   "codemirror_mode": {
    "name": "ipython",
    "version": 3
   },
   "file_extension": ".py",
   "mimetype": "text/x-python",
   "name": "python",
   "nbconvert_exporter": "python",
   "pygments_lexer": "ipython3",
   "version": "3.12.7"
  }
 },
 "nbformat": 4,
 "nbformat_minor": 5
}
